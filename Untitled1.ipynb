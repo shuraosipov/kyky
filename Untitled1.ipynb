{
 "cells": [
  {
   "cell_type": "code",
   "execution_count": 1,
   "metadata": {},
   "outputs": [],
   "source": [
    "#Preprocessing"
   ]
  },
  {
   "cell_type": "code",
   "execution_count": 2,
   "metadata": {},
   "outputs": [],
   "source": [
    "import cv2\n",
    "import numpy as np\n",
    "from matplotlib import pyplot as plt"
   ]
  },
  {
   "cell_type": "code",
   "execution_count": 3,
   "metadata": {},
   "outputs": [],
   "source": [
    "# Load an image in a grayscale mode\n",
    "img = cv2.imread('receipt.png',0)"
   ]
  },
  {
   "cell_type": "code",
   "execution_count": 4,
   "metadata": {},
   "outputs": [],
   "source": [
    "# Simple Thresholding\n",
    "retval, thresh1 = cv2.threshold(img, 210, 255, cv2.THRESH_BINARY)"
   ]
  },
  {
   "cell_type": "code",
   "execution_count": null,
   "metadata": {},
   "outputs": [],
   "source": [
    "cv2.imshow('gray', thresh1)\n",
    "#cv2.imshow('origin', img)\n",
    "cv2.waitKey()"
   ]
  },
  {
   "cell_type": "code",
   "execution_count": 1,
   "metadata": {},
   "outputs": [],
   "source": [
    "# Detecting the text"
   ]
  },
  {
   "cell_type": "code",
   "execution_count": 12,
   "metadata": {},
   "outputs": [],
   "source": [
    "import pytesseract\n",
    "from pytesseract import Output\n",
    "import cv2"
   ]
  },
  {
   "cell_type": "code",
   "execution_count": 13,
   "metadata": {},
   "outputs": [],
   "source": [
    "img = cv2.imread('receipt.png')"
   ]
  },
  {
   "cell_type": "code",
   "execution_count": 15,
   "metadata": {},
   "outputs": [
    {
     "data": {
      "text/plain": [
       "'Berghote]\\n\\nGrosse Scheidegg\\n3818 Grindelwald\\n\\nFamilie R.Müller\\n\\nRech.Nr. 4572 30.07.2007/13:29: 17\\n\\nBar Tisch 7/01\\n\\n2xLatte Macchiato ä 4.50 CHF 9.00\\n\\n1xGloki a SW Sm\\n\\n1xSchweinschnitzel ä 22.00 CHF 22.00\\na\\n\\n18.50 CHF 18.50\\n\\nTotale: CHE 54,50\\n\\n1xChässpätz1i\\n\\nIncl. 7.6% MwSt 54.50 CHF: 3.85\\n\\nEntspricht in Euro 36.33 EUR\\nEs bediente Sie: Ursula\\n\\nMwSt Nr. : 430 234\\nTel.: 033 853 67 16\\nFax.: 033 853 67 19\\nE-mail: grossescheidegg@b luewin. ch\\n\\x0c'"
      ]
     },
     "execution_count": 15,
     "metadata": {},
     "output_type": "execute_result"
    }
   ],
   "source": [
    "extracted_text = pytesseract.image_to_string(img, lang='deu')\n",
    "extracted_text"
   ]
  },
  {
   "cell_type": "code",
   "execution_count": 16,
   "metadata": {},
   "outputs": [],
   "source": [
    "splits = extracted_text.splitlines()"
   ]
  },
  {
   "cell_type": "code",
   "execution_count": 25,
   "metadata": {},
   "outputs": [
    {
     "data": {
      "text/plain": [
       "'Berghote Grosse Scheidegg'"
      ]
     },
     "execution_count": 25,
     "metadata": {},
     "output_type": "execute_result"
    }
   ],
   "source": [
    "# Find restaraunt name\n",
    "restaraunt_name = splits[0] + ' ' + splits[2]\n",
    "restaraunt_name.replace(']','')"
   ]
  },
  {
   "cell_type": "code",
   "execution_count": 26,
   "metadata": {},
   "outputs": [
    {
     "data": {
      "text/plain": [
       "'30.07.2007'"
      ]
     },
     "execution_count": 26,
     "metadata": {},
     "output_type": "execute_result"
    }
   ],
   "source": [
    "# Find date\n",
    "receipt_ocr = {}\n",
    "import re\n",
    "date_pattern = r'(0[1-9]|[12][0-9]|3[01])[.](0[1-9]|1[012])[.](19|20)\\d\\d'\n",
    "date = re.search(date_pattern, extracted_text).group()\n",
    "receipt_ocr['date'] = date\n",
    "date"
   ]
  },
  {
   "cell_type": "code",
   "execution_count": 49,
   "metadata": {},
   "outputs": [
    {
     "name": "stdout",
     "output_type": "stream",
     "text": [
      "2xLatte Macchiato ä 4.50 CHF 9.00\n",
      "1xSchweinschnitzel ä 22.00 CHF 22.00\n",
      "18.50 CHF 18.50\n",
      "Incl. 7.6% MwSt 54.50 CHF: 3.85\n",
      "['2xLatte Macchiato ä 4.50 CHF 9.00', '1xSchweinschnitzel ä 22.00 CHF 22.00', '18.50 CHF 18.50']\n",
      "list index out of range\n"
     ]
    }
   ],
   "source": [
    "# Get lines with CHF\n",
    "lines_with_chf = []\n",
    "for line in splits:\n",
    "    if re.search(r'CHF', line):\n",
    "        lines_with_chf.append(line)\n",
    "\n",
    "# get items, total, ingore Incl\n",
    "items = []\n",
    "for line in lines_with_chf:\n",
    "    print(line)\n",
    "    if re.search(r'Incl', line):\n",
    "        continue\n",
    "    if re.search(r'Totale', line):\n",
    "        total = line\n",
    "    else:\n",
    "        items.append(line)\n",
    "\n",
    "print(items)        \n",
    "# get name, quantity, cost\n",
    "all_items = {}\n",
    "for item in items:\n",
    "    details= item.split()\n",
    "    quantity_name = details[0]\n",
    "    try:\n",
    "        quantity = quantity_name.split('x')[0]\n",
    "        name = quantity_name.split('x')[1]\n",
    "        cost = details[-1]\n",
    "        all_items[name] = {'quantity':quantity, 'cost':cost}\n",
    "    except IndexError as e:\n",
    "        print(e)\n",
    "        pass\n",
    "\n",
    "#total = total.split('CHF')[-1]\n",
    "\n"
   ]
  },
  {
   "cell_type": "code",
   "execution_count": 34,
   "metadata": {},
   "outputs": [
    {
     "name": "stdout",
     "output_type": "stream",
     "text": [
      "\n",
      "\n",
      "\n",
      "\n"
     ]
    }
   ],
   "source": []
  },
  {
   "cell_type": "code",
   "execution_count": 9,
   "metadata": {},
   "outputs": [],
   "source": [
    "d = pytesseract.image_to_data(img, output_type=Output.DICT)"
   ]
  },
  {
   "cell_type": "code",
   "execution_count": null,
   "metadata": {},
   "outputs": [],
   "source": []
  },
  {
   "cell_type": "code",
   "execution_count": null,
   "metadata": {},
   "outputs": [],
   "source": []
  },
  {
   "cell_type": "code",
   "execution_count": 6,
   "metadata": {},
   "outputs": [],
   "source": [
    "n_boxes = len(d['level'])\n",
    "for i in range(n_boxes):\n",
    "    (x,y,w,h) = (d['left'][i], d['top'][i], d['width'][i], d['height'][i])\n",
    "    img = cv2.rectangle(img, (x,y), (x + w, y + h), (0,0,255), 2)\n",
    "cv2.imshow('img', img)\n",
    "cv2.waitKey(0)\n",
    "cv2.destroyAllWindows()"
   ]
  },
  {
   "cell_type": "raw",
   "metadata": {},
   "source": []
  },
  {
   "cell_type": "code",
   "execution_count": 11,
   "metadata": {},
   "outputs": [
    {
     "ename": "NameError",
     "evalue": "name 'extracted_text' is not defined",
     "output_type": "error",
     "traceback": [
      "\u001b[0;31m---------------------------------------------------------------------------\u001b[0m",
      "\u001b[0;31mNameError\u001b[0m                                 Traceback (most recent call last)",
      "\u001b[0;32m<ipython-input-11-c89cd36a752f>\u001b[0m in \u001b[0;36m<module>\u001b[0;34m\u001b[0m\n\u001b[0;32m----> 1\u001b[0;31m \u001b[0mextracted_text\u001b[0m\u001b[0;34m\u001b[0m\u001b[0;34m\u001b[0m\u001b[0m\n\u001b[0m",
      "\u001b[0;31mNameError\u001b[0m: name 'extracted_text' is not defined"
     ]
    }
   ],
   "source": []
  },
  {
   "cell_type": "code",
   "execution_count": null,
   "metadata": {},
   "outputs": [],
   "source": []
  }
 ],
 "metadata": {
  "kernelspec": {
   "display_name": "Python 3",
   "language": "python",
   "name": "python3"
  },
  "language_info": {
   "codemirror_mode": {
    "name": "ipython",
    "version": 3
   },
   "file_extension": ".py",
   "mimetype": "text/x-python",
   "name": "python",
   "nbconvert_exporter": "python",
   "pygments_lexer": "ipython3",
   "version": "3.8.5"
  }
 },
 "nbformat": 4,
 "nbformat_minor": 4
}
